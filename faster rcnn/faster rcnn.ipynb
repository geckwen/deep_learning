{
 "cells": [
  {
   "cell_type": "code",
   "execution_count": 30,
   "metadata": {},
   "outputs": [],
   "source": [
    "import torch\n",
    "import torch.nn as nn\n",
    "import numpy as np\n",
    "import torchvision\n",
    "from PIL import Image"
   ]
  },
  {
   "cell_type": "code",
   "execution_count": null,
   "metadata": {},
   "outputs": [],
   "source": []
  },
  {
   "cell_type": "code",
   "execution_count": 29,
   "metadata": {},
   "outputs": [],
   "source": [
    "def preprocess(PIL_Image , image_shape):\n",
    "    trans = torchvision.transfrom.Compose(\n",
    "                torchvision.transforms.Resize(image_shape),\n",
    "                torchvision.transforms.toTensor()\n",
    "                )\n",
    "    return trans(PIL_Image)"
   ]
  },
  {
   "cell_type": "code",
   "execution_count": 44,
   "metadata": {},
   "outputs": [],
   "source": [
    "def vgg_block(in_channel,out_channel,i,kernel_size =3,stride = 1,padding = 1):\n",
    "    net_list = []\n",
    "    if i == 1 : \n",
    "        net_list.append(nn.conv2d(in_channel,out_channel,kernel_size=kernel_size,stride = stride,padding = padding))\n",
    "        net_list.append(nn.conv2d(out_channel,out_channel,kernel_size=kernel_size,stride = stride,padding = padding))\n",
    "    elif i == 2:\n",
    "        net_list.append(nn.conv2d(in_channel,out_channel,kernel_size=kernel_size,stride = stride,padding = padding))\n",
    "        net_list.append(nn.conv2d(out_channel,out_channel,kernel_size=kernel_size,stride = stride,padding = padding))\n",
    "    else :\n",
    "        net_list.append(nn.conv2d(in_channel,out_channel,kernel_size=kernel_size,stride = stride,padding = padding))\n",
    "        net_list.append(nn.conv2d(out_channel,out_channel,kernel_size=kernel_size,stride = stride,padding = padding))\n",
    "        net_list.append(nn.conv2d(out_channel,out_channel,kernel_size=kernel_size,stride = stride,padding = padding))\n",
    "    \n",
    "    net_list.append(kernel_size=2, stride=2).append(nn.MaxPool2d(kernel_size=2, stride=2,padding = 0))\n",
    "    return nn.Sequential(*net_list)"
   ]
  },
  {
   "cell_type": "code",
   "execution_count": 45,
   "metadata": {},
   "outputs": [],
   "source": [
    "conv_arch = ((1, 3, 64), (2, 64, 128), (3, 128, 256), (4, 256, 512), (5, 512, 512))"
   ]
  },
  {
   "cell_type": "code",
   "execution_count": 46,
   "metadata": {},
   "outputs": [],
   "source": [
    "class conv_layers(nn.Module):\n",
    "    def ___init__(self):\n",
    "        super(conv_layers,self).__init__()\n",
    "        net = nn.Sequential()\n",
    "        for i,(num_convs,in_channels,out_channels) in enumerate(conv_arch):\n",
    "            in_channels *= 2**num_convs\n",
    "            net.add_module(\"vgg_block_\" + str(num_convs+1), vgg_block(in_channels, out_channels,num_convs))\n",
    "        self.fc = net\n",
    "    \n",
    "    def forward(self, x):\n",
    "        return self.fc(x)"
   ]
  },
  {
   "cell_type": "code",
   "execution_count": 47,
   "metadata": {},
   "outputs": [],
   "source": [
    "PRN_in_channels,PRN_out_channels = 512,18\n",
    "class PRN(nn.Module):\n",
    "    def __init__(self):\n",
    "        super(conv_layers,self).__init__()\n",
    "        self.fc = nn.con2d(in_channels,in_channels,kernel_size = 3, padding =1,strides = 1)\n",
    "        self.prototxt = nn.con2d(PRN_in_channels, PRN_out_channels,kernel_size =1,padding=1,strides =1)\n",
    "        reshape()\n",
    "        self.softmax = nn.softmax()\n",
    "        reshape()\n",
    "    \n",
    "    def forward(X):\n",
    "        return reshape(self.softmax(reshape(self.prototxt(self.fc(X)))))"
   ]
  },
  {
   "cell_type": "code",
   "execution_count": 48,
   "metadata": {},
   "outputs": [],
   "source": [
    "PRN_bouding_box_out_channels,PRN_bouding_box_in_channels = 36,512\n",
    "class PRN_bouding_box(nn.Module):\n",
    "    def __init__(self):\n",
    "        super(conv_layers,self).__init__()\n",
    "        self.fc = nn.con2d(PRN_bouding_box_in_channels,PRN_bouding_box_in_channels,kernel_size = 3, padding =1,strides = 1)\n",
    "        self.box = nn.con2d(PRN_bouding_box_in_channels, PRN_bouding_box_out_channels,kernel_size =1,padding=1,strides =1)\n",
    "    \n",
    "    def forward(X):\n",
    "        return self.box(self.fc(X))"
   ]
  },
  {
   "cell_type": "code",
   "execution_count": null,
   "metadata": {},
   "outputs": [],
   "source": []
  }
 ],
 "metadata": {
  "kernelspec": {
   "display_name": "Python 3",
   "language": "python",
   "name": "python3"
  },
  "language_info": {
   "codemirror_mode": {
    "name": "ipython",
    "version": 3
   },
   "file_extension": ".py",
   "mimetype": "text/x-python",
   "name": "python",
   "nbconvert_exporter": "python",
   "pygments_lexer": "ipython3",
   "version": "3.7.4"
  }
 },
 "nbformat": 4,
 "nbformat_minor": 2
}
