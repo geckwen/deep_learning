{
 "cells": [
  {
   "cell_type": "code",
   "execution_count": 211,
   "metadata": {},
   "outputs": [],
   "source": [
    "import pandas as pd\n",
    "import matplotlib.pyplot as plt\n",
    "import torch.nn as nn\n",
    "import torch"
   ]
  },
  {
   "cell_type": "code",
   "execution_count": 212,
   "metadata": {},
   "outputs": [],
   "source": [
    "train_csv = pd.read_csv('train.csv')"
   ]
  },
  {
   "cell_type": "code",
   "execution_count": 213,
   "metadata": {},
   "outputs": [],
   "source": [
    "#train_csv.head()\n",
    "#train_csv.info()\n",
    "#train_csv.describe()"
   ]
  },
  {
   "cell_type": "code",
   "execution_count": 214,
   "metadata": {},
   "outputs": [],
   "source": [
    "train_labels = train_csv['label']\n",
    "train_csv.drop('label',axis =1, inplace =True)\n",
    "train_features = train_csv\n",
    "train_features = train_features.values.reshape(-1,1,28,28)\n",
    "train_labels = train_labels.values"
   ]
  },
  {
   "cell_type": "code",
   "execution_count": 215,
   "metadata": {},
   "outputs": [],
   "source": [
    "#train_features.shape\n",
    "#train_labels.shape\n",
    "#train_labels[0:4]"
   ]
  },
  {
   "cell_type": "code",
   "execution_count": 216,
   "metadata": {},
   "outputs": [
    {
     "data": {
      "text/plain": [
       "(28000, 1, 28, 28)"
      ]
     },
     "execution_count": 216,
     "metadata": {},
     "output_type": "execute_result"
    }
   ],
   "source": [
    "test_csv = pd.read_csv('test.csv')\n",
    "#test_csv.info()\n",
    "#test_csv.describe()\n",
    "#test_csv.head()\n",
    "test_features = test_csv.values.reshape(-1,1,28,28)\n",
    "test_features.shape"
   ]
  },
  {
   "cell_type": "code",
   "execution_count": 217,
   "metadata": {},
   "outputs": [],
   "source": [
    "def show_fashion_mnist(images, labels, figsize=(12,12),size = 10):\n",
    "    # 这里的_表示我们忽略（不使用）的变量\n",
    "    _, figs = plt.subplots(1, size, figsize=figsize)\n",
    "    for f, i, j in zip(figs, range(size), range(size)):\n",
    "        f.imshow(images[i][0,:,:])\n",
    "        f.set_title(labels[j])\n",
    "        f.axes.get_xaxis().set_visible(False)\n",
    "        f.axes.get_yaxis().set_visible(False)\n",
    "    plt.show()"
   ]
  },
  {
   "cell_type": "code",
   "execution_count": 218,
   "metadata": {},
   "outputs": [
    {
     "data": {
      "image/png": "[encoded data removed]",
      "text/plain": [
       "<Figure size 64.8x64.8 with 1 Axes>"
      ]
     },
     "metadata": {
      "needs_background": "light"
     },
     "output_type": "display_data"
    },
    {
     "data": {
      "image/png": "[encoded data removed]",
      "text/plain": [
       "<Figure size 864x864 with 10 Axes>"
      ]
     },
     "metadata": {
      "needs_background": "light"
     },
     "output_type": "display_data"
    }
   ],
   "source": [
    "plt.figure(figsize=(0.9,0.9))\n",
    "plt.imshow(train_features[1][0,:,:],cmap='gray')\n",
    "plt.show()\n",
    "show_fashion_mnist(train_features, train_labels)"
   ]
  },
  {
   "cell_type": "code",
   "execution_count": 219,
   "metadata": {},
   "outputs": [],
   "source": [
    "#batch_size =256\n",
    "#train_features = torch.tensor(train_features,dtype = torch.float)\n",
    "#train_labels = torch.tensor(train_labels, dtype = torch.float)\n",
    "#test_features = torch.tensor(test_features, dtype = torch.float)"
   ]
  },
  {
   "cell_type": "code",
   "execution_count": 220,
   "metadata": {},
   "outputs": [
    {
     "data": {
      "text/plain": [
       "42000"
      ]
     },
     "execution_count": 220,
     "metadata": {},
     "output_type": "execute_result"
    }
   ],
   "source": [
    "len(train_features)"
   ]
  },
  {
   "cell_type": "markdown",
   "metadata": {},
   "source": [
    "# 网络层"
   ]
  },
  {
   "cell_type": "code",
   "execution_count": 221,
   "metadata": {},
   "outputs": [],
   "source": [
    "def Flatten(x):\n",
    "    return x.view(1,-1)\n",
    "\n",
    "class net(nn.Module):\n",
    "    def __init__(self):\n",
    "        super(net,self).__init__()\n",
    "        self.conv = nn.Sequential(\n",
    "            nn.Conv2d(in_channels=1, out_channels=6, kernel_size=5, padding=2), #b*1*28*28  =>b*6*28*28\n",
    "            nn.Sigmoid(),                                                       \n",
    "            nn.AvgPool2d(kernel_size=2, stride=2),                              #b*6*28*28  =>b*6*14*14\n",
    "            nn.Conv2d(in_channels=6, out_channels=16, kernel_size=5),           #b*6*14*14  =>b*16*10*10\n",
    "            nn.Sigmoid(),\n",
    "            nn.AvgPool2d(kernel_size=2, stride=2)                               #b*16*10*10  => b*16*5*5\n",
    "            )   \n",
    "        self.dense = nn.Sequential(\n",
    "            Flatten(),                                                              #b*16*5*5   => b*400\n",
    "            nn.Linear(in_features=16*5*5, out_features=120),\n",
    "            nn.Sigmoid(),\n",
    "            nn.Linear(120, 84),\n",
    "            nn.Sigmoid(),\n",
    "            nn.Linear(84, 10)\n",
    "            )\n",
    "    def forward(x):\n",
    "        return self.dense(self.conv(x))"
   ]
  },
  {
   "cell_type": "markdown",
   "metadata": {},
   "source": [
    "# 训练模型"
   ]
  },
  {
   "cell_type": "code",
   "execution_count": 222,
   "metadata": {},
   "outputs": [],
   "source": [
    "def train(net, train_features,train_labels, test_features, test_labels, \n",
    "                  num_epochs,batch_size,lr,weight_decay,criterion ):\n",
    "    optimizer = torch.optim.Adam(params = net.parameter(), lr = lr, weight_decay = weight_decay)\n",
    "    train_dataset = torch.util.data.TensorDataset(train_features,train_labels)\n",
    "    train_iter = torch.util.data.DataLoader(train_dataset, batch_size = batch_size, shuffle=True)\n",
    "    for x , y in train_iter:\n",
    "        net.train()\n",
    "        y_hat = net(x)\n",
    "        loss = criterion(y_hat, y)\n",
    "        optimizer.zero_grad()\n",
    "        loss.backward()\n",
    "        optimizer.step()"
   ]
  },
  {
   "cell_type": "markdown",
   "metadata": {},
   "source": [
    "# K折"
   ]
  },
  {
   "cell_type": "code",
   "execution_count": 225,
   "metadata": {},
   "outputs": [],
   "source": [
    "def get_k_fold(i,k,train_features, train_labels):\n",
    "    fold_size = len(train_features)//k\n",
    "    features_train, labels_train = None,None\n",
    "    for j in range(k):\n",
    "        idx = slice(j*fold_size, (j+1)*fold_size)\n",
    "        features_part , labels_part = train_features[idx,:,:,:],train_labels[idx]\n",
    "        if i == j:\n",
    "            features_valid,labels_valid = features_part, labels_part\n",
    "        elif features_train is not None:\n",
    "            features_train, labels_train = features_part,labels_part\n",
    "        else :\n",
    "            features_train = torch.cat((features_train,features_part),dim =0 )\n",
    "            labels_train = torch.cat((labels_train, labels_part),dim = 0)\n",
    "    return features_train,labels_train, features_valid , labels_valid"
   ]
  },
  {
   "cell_type": "code",
   "execution_count": null,
   "metadata": {},
   "outputs": [],
   "source": []
  }
 ],
 "metadata": {
  "kernelspec": {
   "display_name": "Python 3",
   "language": "python",
   "name": "python3"
  },
  "language_info": {
   "codemirror_mode": {
    "name": "ipython",
    "version": 3
   },
   "file_extension": ".py",
   "mimetype": "text/x-python",
   "name": "python",
   "nbconvert_exporter": "python",
   "pygments_lexer": "ipython3",
   "version": "3.7.5"
  }
 },
 "nbformat": 4,
 "nbformat_minor": 2
}
