{
 "cells": [
  {
   "cell_type": "code",
   "execution_count": 6,
   "metadata": {},
   "outputs": [],
   "source": [
    "import torch\n",
    "import numpy as np\n",
    "import torch.nn as nn"
   ]
  },
  {
   "cell_type": "code",
   "execution_count": 4,
   "metadata": {},
   "outputs": [],
   "source": [
    "def get_params():\n",
    "    def _one(shape):\n",
    "        return torch.Tensor(np.random.normal(scale = 0.01,size =shape),requires_grad=True,dtype = torch.float)\n",
    "    \n",
    "    #隐藏层参数\n",
    "    W_xh = _one((num_inputs, num_hiddens))\n",
    "    W_hh = _one((num_hiddens, num_hiddens))\n",
    "    b_h = torch.zeros(num_hiddens, requires_grad=True)\n",
    "    \n",
    "    #输出层参数\n",
    "    W_hq = _one((num_hiddens , num_outputs))\n",
    "    b_q = torch.zeros(num_outputs, requires_grad=True)\n",
    "    \n",
    "    params = [ W_xh, W_hh , b_h ,W_hq, b_q  ]\n",
    "    return params"
   ]
  },
  {
   "cell_type": "code",
   "execution_count": 5,
   "metadata": {},
   "outputs": [],
   "source": [
    "def init_rnn_state(batch_size , num_hiddens):\n",
    "    return torch.zeros(shape = (batch_size, num_hiddens),requires_grad=True)"
   ]
  },
  {
   "cell_type": "code",
   "execution_count": 8,
   "metadata": {},
   "outputs": [],
   "source": [
    "def rnn(inputs, state,params):\n",
    "    W_xh, W_hh , b_h ,W_hq, b_q  = params\n",
    "    H, = state\n",
    "    outputs = []\n",
    "    for X in inputs:\n",
    "        H = torch.tanh(torch.dot(X,W_xh) + torch.dot(H, W_hh) +b_h)\n",
    "        Y = torch.dot(H, W_hq)+ b_q\n",
    "        outputs = append(Y)\n",
    "    return outputs, (H,)"
   ]
  },
  {
   "cell_type": "code",
   "execution_count": null,
   "metadata": {},
   "outputs": [],
   "source": []
  }
 ],
 "metadata": {
  "kernelspec": {
   "display_name": "Python 3",
   "language": "python",
   "name": "python3"
  },
  "language_info": {
   "codemirror_mode": {
    "name": "ipython",
    "version": 3
   },
   "file_extension": ".py",
   "mimetype": "text/x-python",
   "name": "python",
   "nbconvert_exporter": "python",
   "pygments_lexer": "ipython3",
   "version": "3.7.4"
  }
 },
 "nbformat": 4,
 "nbformat_minor": 2
}
