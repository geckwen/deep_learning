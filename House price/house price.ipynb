{
 "cells": [
  {
   "cell_type": "code",
   "execution_count": 3,
   "metadata": {},
   "outputs": [
    {
     "name": "stdout",
     "output_type": "stream",
     "text": [
      "1.3.1\n"
     ]
    }
   ],
   "source": [
    "%matplotlib inline\n",
    "import matplotlib.pyplot as plt\n",
    "import torch\n",
    "import torch.nn as nn\n",
    "import numpy as np\n",
    "import pandas as pd\n",
    "print(torch.__version__)\n",
    "torch.set_default_tensor_type(torch.FloatTensor)"
   ]
  },
  {
   "cell_type": "code",
   "execution_count": 4,
   "metadata": {},
   "outputs": [],
   "source": [
    "train_data = pd.read_csv(\"train.csv\")\n",
    "test_data = pd.read_csv(\"test.csv\")"
   ]
  },
  {
   "cell_type": "code",
   "execution_count": 5,
   "metadata": {},
   "outputs": [
    {
     "data": {
      "text/plain": [
       "(1460, 81)"
      ]
     },
     "execution_count": 5,
     "metadata": {},
     "output_type": "execute_result"
    }
   ],
   "source": [
    "train_data.shape"
   ]
  },
  {
   "cell_type": "code",
   "execution_count": 6,
   "metadata": {},
   "outputs": [
    {
     "data": {
      "text/plain": [
       "(1459, 80)"
      ]
     },
     "execution_count": 6,
     "metadata": {},
     "output_type": "execute_result"
    }
   ],
   "source": [
    "test_data.shape"
   ]
  },
  {
   "cell_type": "code",
   "execution_count": 7,
   "metadata": {},
   "outputs": [
    {
     "data": {
      "text/html": [
       "<div>\n",
       "<style scoped>\n",
       "    .dataframe tbody tr th:only-of-type {\n",
       "        vertical-align: middle;\n",
       "    }\n",
       "\n",
       "    .dataframe tbody tr th {\n",
       "        vertical-align: top;\n",
       "    }\n",
       "\n",
       "    .dataframe thead th {\n",
       "        text-align: right;\n",
       "    }\n",
       "</style>\n",
       "<table border=\"1\" class=\"dataframe\">\n",
       "  <thead>\n",
       "    <tr style=\"text-align: right;\">\n",
       "      <th></th>\n",
       "      <th>MSSubClass</th>\n",
       "      <th>MSZoning</th>\n",
       "      <th>LotFrontage</th>\n",
       "      <th>SaleType</th>\n",
       "      <th>SaleCondition</th>\n",
       "      <th>SalePrice</th>\n",
       "    </tr>\n",
       "  </thead>\n",
       "  <tbody>\n",
       "    <tr>\n",
       "      <th>0</th>\n",
       "      <td>60</td>\n",
       "      <td>RL</td>\n",
       "      <td>65.0</td>\n",
       "      <td>WD</td>\n",
       "      <td>Normal</td>\n",
       "      <td>208500</td>\n",
       "    </tr>\n",
       "    <tr>\n",
       "      <th>1</th>\n",
       "      <td>20</td>\n",
       "      <td>RL</td>\n",
       "      <td>80.0</td>\n",
       "      <td>WD</td>\n",
       "      <td>Normal</td>\n",
       "      <td>181500</td>\n",
       "    </tr>\n",
       "    <tr>\n",
       "      <th>2</th>\n",
       "      <td>60</td>\n",
       "      <td>RL</td>\n",
       "      <td>68.0</td>\n",
       "      <td>WD</td>\n",
       "      <td>Normal</td>\n",
       "      <td>223500</td>\n",
       "    </tr>\n",
       "    <tr>\n",
       "      <th>3</th>\n",
       "      <td>70</td>\n",
       "      <td>RL</td>\n",
       "      <td>60.0</td>\n",
       "      <td>WD</td>\n",
       "      <td>Abnorml</td>\n",
       "      <td>140000</td>\n",
       "    </tr>\n",
       "  </tbody>\n",
       "</table>\n",
       "</div>"
      ],
      "text/plain": [
       "   MSSubClass MSZoning  LotFrontage SaleType SaleCondition  SalePrice\n",
       "0          60       RL         65.0       WD        Normal     208500\n",
       "1          20       RL         80.0       WD        Normal     181500\n",
       "2          60       RL         68.0       WD        Normal     223500\n",
       "3          70       RL         60.0       WD       Abnorml     140000"
      ]
     },
     "execution_count": 7,
     "metadata": {},
     "output_type": "execute_result"
    }
   ],
   "source": [
    "train_data.iloc[0:4,[1,2,3,-3,-2,-1]]"
   ]
  },
  {
   "cell_type": "code",
   "execution_count": 8,
   "metadata": {},
   "outputs": [],
   "source": [
    "all_features = pd.concat((train_data.iloc[:,1:-1],test_data.iloc[:,1:]))"
   ]
  },
  {
   "cell_type": "code",
   "execution_count": 9,
   "metadata": {},
   "outputs": [
    {
     "data": {
      "text/plain": [
       "(2919, 79)"
      ]
     },
     "execution_count": 9,
     "metadata": {},
     "output_type": "execute_result"
    }
   ],
   "source": [
    "all_features.shape"
   ]
  },
  {
   "cell_type": "code",
   "execution_count": 10,
   "metadata": {},
   "outputs": [],
   "source": [
    "numeric_features = all_features.dtypes[all_features.dtypes !=\"object\"].index\n",
    "all_features[numeric_features] = all_features[numeric_features].apply(\n",
    "        lambda x : (x-x.mean())/(x.std()))\n",
    "all_features[numeric_features] = all_features[numeric_features].fillna(0)"
   ]
  },
  {
   "cell_type": "code",
   "execution_count": 11,
   "metadata": {},
   "outputs": [
    {
     "data": {
      "text/plain": [
       "(2919, 79)"
      ]
     },
     "execution_count": 11,
     "metadata": {},
     "output_type": "execute_result"
    }
   ],
   "source": [
    "all_features.shape"
   ]
  },
  {
   "cell_type": "code",
   "execution_count": 12,
   "metadata": {},
   "outputs": [],
   "source": [
    "all_features = pd.get_dummies(all_features, dummy_na =True)"
   ]
  },
  {
   "cell_type": "code",
   "execution_count": 13,
   "metadata": {},
   "outputs": [],
   "source": [
    "n_train = train_data.shape[0]\n",
    "train_features = torch.tensor(all_features[:n_train].values, dtype = torch.float32)\n",
    "test_features = torch.tensor(all_features[n_train:].values , dtype = torch.float32)\n",
    "train_labels = torch.tensor(train_data.SalePrice.values, dtype = torch.float32).view(-1,1)"
   ]
  },
  {
   "cell_type": "code",
   "execution_count": 14,
   "metadata": {},
   "outputs": [],
   "source": [
    "def semilogy(x_vals, y_vals, x_label, y_label, x2_vals=None, y2_vals=None,\n",
    "             legend=None, figsize=(3.5, 2.5)):\n",
    "    plt.figure(figsize=figsize)\n",
    "    plt.xlabel(x_label)\n",
    "    plt.ylabel(y_label)\n",
    "    plt.semilogy(x_vals, y_vals)\n",
    "    if x2_vals and y2_vals:\n",
    "        plt.semilogy(x2_vals, y2_vals, linestyle=':')\n",
    "        plt.legend(legend)"
   ]
  },
  {
   "cell_type": "code",
   "execution_count": 15,
   "metadata": {},
   "outputs": [],
   "source": [
    "def Linear(features_num, drop_prob ):\n",
    "    net = nn.Sequential(\n",
    "        nn.Linear(features_num,1),\n",
    "        #nn.Dropout(droup_pred),\n",
    "        #nn.Linear(2,1)\n",
    "    )\n",
    "    return net"
   ]
  },
  {
   "cell_type": "code",
   "execution_count": 16,
   "metadata": {},
   "outputs": [],
   "source": [
    "loss = nn.MSELoss()\n",
    "def log_Mse(net , features, labels):\n",
    "    with torch.no_grad():\n",
    "        clipped_preds = torch.max(net(features), torch.tensor(1.0))\n",
    "        rmse = torch.sqrt(2*loss( clipped_preds.log(), labels.log()).mean())\n",
    "    return rmse"
   ]
  },
  {
   "cell_type": "code",
   "execution_count": 83,
   "metadata": {},
   "outputs": [],
   "source": [
    "def train(num_epochs, train_features, train_labels, test_features, test_labels, \n",
    "                          net,batch_size,lr,weight_decay):\n",
    "    train_dataset = torch.utils.data.TensorDataset(train_features, train_labels)\n",
    "    train_l ,test_l =[], []\n",
    "    optimizer = torch.optim.SGD(params=net.parameters(), lr=lr, weight_decay=weight_decay,momentum = 0.1)\n",
    "    train_iter = torch.utils.data.DataLoader(train_dataset,batch_size=batch_size, shuffle= True)\n",
    "    for i in range(num_epochs):\n",
    "        \n",
    "        for x,y in train_iter:\n",
    "            net.train()\n",
    "            l = loss(net(x),y)\n",
    "            optimizer.zero_grad()\n",
    "            l.backward()\n",
    "            optimizer.step()\n",
    "        train_l.append(log_Mse(net, train_features, train_labels))\n",
    "        if test_features is not None:\n",
    "            net.eval()\n",
    "            test_l.append(log_Mse(net, test_features, test_labels))\n",
    "    return train_l,test_l"
   ]
  },
  {
   "cell_type": "code",
   "execution_count": 18,
   "metadata": {},
   "outputs": [],
   "source": [
    "def get_f_fold(i, k, train_features, train_labels):\n",
    "    assert k>1\n",
    "    fold_size = train_features.shape[0]//k\n",
    "    features_train, labels_train = None,None\n",
    "    for j in range(k):\n",
    "        idx = slice(j*fold_size, (j+1)*fold_size)\n",
    "        features_part,labels_part = train_features[idx,:],train_labels[idx]\n",
    "        if i == j:\n",
    "            features_valid,labels_valid = features_part,labels_part\n",
    "        elif features_train is None:\n",
    "            features_train,labels_train = features_part,labels_part\n",
    "        else:\n",
    "            features_train = torch.cat((features_train,features_part),dim=0)\n",
    "            labels_train = torch.cat((labels_train,labels_part),dim=0)\n",
    "    return features_train, labels_train, features_valid,labels_valid"
   ]
  },
  {
   "cell_type": "code",
   "execution_count": 19,
   "metadata": {},
   "outputs": [],
   "source": [
    "def f_fold(k, x_train, y_train, num_epochs,batch_size,lr,weight_decay,drop_prob):\n",
    "    train_l_sum,test_l_sum =0,0\n",
    "    for i in range(k):\n",
    "        data = get_f_fold(i,k,x_train, y_train)\n",
    "        net = Linear(x_train.shape[1],drop_prob)\n",
    "        train_l,test_l = train(num_epochs,*data,net,batch_size,lr,weight_decay)\n",
    "        train_l_sum += train_l[-1]\n",
    "        test_l_sum += test_l[-1]\n",
    "        if i == 0:\n",
    "            semilogy(range(1, num_epochs + 1), train_l, 'epochs', 'rmse',\n",
    "                         range(1, num_epochs + 1), test_l,\n",
    "                         ['train', 'valid'])\n",
    "        print('fold %d, train rmse %f, valid rmse %f' % (i, train_l[-1], test_l[-1]))\n",
    "    return train_l_sum/k, test_l_sum/k"
   ]
  },
  {
   "cell_type": "code",
   "execution_count": 89,
   "metadata": {},
   "outputs": [
    {
     "name": "stdout",
     "output_type": "stream",
     "text": [
      "fold 0, train rmse 0.189432, valid rmse 0.225927\n",
      "fold 1, train rmse 0.188016, valid rmse 0.180181\n",
      "fold 2, train rmse 0.189299, valid rmse 0.197801\n",
      "fold 3, train rmse 0.180301, valid rmse 0.236182\n",
      "fold 4, train rmse 0.183195, valid rmse 0.236948\n",
      "fold 5, train rmse 0.189006, valid rmse 0.193469\n",
      "fold 6, train rmse 0.190772, valid rmse 0.203863\n",
      "fold 7, train rmse 0.191779, valid rmse 0.189673\n",
      "fold 8, train rmse 0.175874, valid rmse 0.256268\n",
      "fold 9, train rmse 0.187582, valid rmse 0.214119\n",
      "10-fold validation: avg train rmse 0.186526, avg valid rmse 0.213443\n"
     ]
    },
    {
     "data": {
      "image/png": "[encoded data removed]",
      "text/plain": [
       "<Figure size 252x180 with 1 Axes>"
      ]
     },
     "metadata": {
      "needs_background": "light"
     },
     "output_type": "display_data"
    }
   ],
   "source": [
    "k, num_epochs, lr, weight_decay, batch_size ,drop_prob = 10, 100, 0.0058, 0, 64,0.6\n",
    "train_l, valid_l = f_fold(k,train_features,train_labels,num_epochs,batch_size ,lr,weight_decay,drop_prob)\n",
    "print('%d-fold validation: avg train rmse %f, avg valid rmse %f' % (k, train_l, valid_l))"
   ]
  },
  {
   "cell_type": "code",
   "execution_count": 90,
   "metadata": {},
   "outputs": [],
   "source": [
    "def train_and_pred(train_features, test_features, train_labels, test_data,\n",
    "                   num_epochs, lr, weight_decay, batch_size, drop_prob):\n",
    "    net = Linear(train_features.shape[1],drop_prob)\n",
    "    train_ls, _ = train(num_epochs, train_features, train_labels, None, None,\n",
    "                        net,batch_size,lr,weight_decay)\n",
    "    print('train rmse %f' % train_ls[-1])\n",
    "    preds = net(test_features).detach().numpy()\n",
    "    test_data['SalePrice'] = pd.Series(preds.reshape(1, -1)[0])\n",
    "    submission = pd.concat([test_data['Id'], test_data['SalePrice']], axis=1)\n",
    "    submission.to_csv('./first_housePrice.csv', index=False)"
   ]
  },
  {
   "cell_type": "code",
   "execution_count": 91,
   "metadata": {},
   "outputs": [
    {
     "name": "stdout",
     "output_type": "stream",
     "text": [
      "train rmse 0.187145\n"
     ]
    }
   ],
   "source": [
    "train_and_pred(train_features,test_features,train_labels,test_data,num_epochs,lr,weight_decay,batch_size,drop_prob)"
   ]
  },
  {
   "cell_type": "code",
   "execution_count": null,
   "metadata": {},
   "outputs": [],
   "source": []
  }
 ],
 "metadata": {
  "kernelspec": {
   "display_name": "Python 3",
   "language": "python",
   "name": "python3"
  },
  "language_info": {
   "codemirror_mode": {
    "name": "ipython",
    "version": 3
   },
   "file_extension": ".py",
   "mimetype": "text/x-python",
   "name": "python",
   "nbconvert_exporter": "python",
   "pygments_lexer": "ipython3",
   "version": "3.7.5"
  }
 },
 "nbformat": 4,
 "nbformat_minor": 2
}
